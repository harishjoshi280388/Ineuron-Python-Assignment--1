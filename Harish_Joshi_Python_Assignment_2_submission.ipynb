{
 "cells": [
  {
   "cell_type": "markdown",
   "metadata": {},
   "source": [
    "Task 1:"
   ]
  },
  {
   "cell_type": "markdown",
   "metadata": {},
   "source": [
    "1.1  \n",
    " \n",
    "Write a Python Program to implement your own myreduce() function which works exactly like Python's built-in function reduce() "
   ]
  },
  {
   "cell_type": "markdown",
   "metadata": {},
   "source": [
    "Ans 1.1 a)Showing an example with reduce function first"
   ]
  },
  {
   "cell_type": "code",
   "execution_count": 6,
   "metadata": {},
   "outputs": [
    {
     "name": "stdout",
     "output_type": "stream",
     "text": [
      "24840\n"
     ]
    }
   ],
   "source": [
    "#multiply  numbers in a list using inbuilt reduce()\n",
    "from functools import reduce \n",
    "my_numbers = [4, 6, 9, 23, 5]\n",
    "\n",
    "def mul(a,b):\n",
    "    return a*b\n",
    "    \n",
    "reduce_result=reduce(mul,my_numbers)\n",
    "print(reduce_result)"
   ]
  },
  {
   "cell_type": "markdown",
   "metadata": {},
   "source": [
    "Ans 1.1 b) performing above operation without using reduce"
   ]
  },
  {
   "cell_type": "code",
   "execution_count": 19,
   "metadata": {},
   "outputs": [
    {
     "name": "stdout",
     "output_type": "stream",
     "text": [
      "24840\n"
     ]
    }
   ],
   "source": [
    "#multiply numbers in a list without reduce\n",
    "my_numbers = [4, 6, 9, 23, 5]\n",
    "def my_reduce():\n",
    "    reduce_result=1\n",
    "    for num in my_numbers:\n",
    "        reduce_result=reduce_result*num\n",
    "    print(reduce_result) \n",
    "my_reduce()    "
   ]
  },
  {
   "cell_type": "markdown",
   "metadata": {},
   "source": [
    "1.2  \n",
    " \n",
    "Write a Python program to implement your own myfilter() function which works exactly like Python's built-in function filter() "
   ]
  },
  {
   "cell_type": "markdown",
   "metadata": {},
   "source": [
    "Ans 1.2 a)showing an example with filter function first"
   ]
  },
  {
   "cell_type": "code",
   "execution_count": 23,
   "metadata": {},
   "outputs": [
    {
     "name": "stdout",
     "output_type": "stream",
     "text": [
      "['Harish', 'Hemant', 'Jasmeet']\n"
     ]
    }
   ],
   "source": [
    "#return words only where length is less than or equal to 7 using filter\n",
    "my_names = [\"Harish\", \"Hemant\", \"Jasmeet\", \"Mohammed\", \"Akanksha\"]\n",
    "\n",
    "filter_result=list(filter(lambda x:len(x)<=7,my_names))\n",
    "print(filter_result)"
   ]
  },
  {
   "cell_type": "markdown",
   "metadata": {},
   "source": [
    "Ans 1.2 b) performing above operation without using inbuilt filter()"
   ]
  },
  {
   "cell_type": "code",
   "execution_count": 25,
   "metadata": {},
   "outputs": [
    {
     "name": "stdout",
     "output_type": "stream",
     "text": [
      "['Harish', 'Hemant', 'Jasmeet']\n"
     ]
    }
   ],
   "source": [
    "#return words only where length is less than or equal to 7 without using filter\n",
    "my_names = [\"Harish\", \"Hemant\", \"Jasmeet\", \"Mohammed\", \"Akanksha\"]\n",
    "def myfilter():\n",
    "    filter_result=[]\n",
    "    for name in my_names:\n",
    "        if len(name)<=7:\n",
    "            filter_result.append(name)\n",
    "    print(filter_result)    \n",
    "myfilter()    "
   ]
  },
  {
   "cell_type": "code",
   "execution_count": null,
   "metadata": {},
   "outputs": [],
   "source": []
  },
  {
   "cell_type": "markdown",
   "metadata": {},
   "source": [
    "2. Implement List comprehensions to produce the following lists. \n",
    " \n",
    "Write List comprehensions to produce the following Lists \n",
    " \n",
    "['A', 'C', 'A', 'D', 'G', 'I', ’L’, ‘ D’] \n",
    " \n",
    "['x', 'xx', 'xxx', 'xxxx', 'y', 'yy', 'yyy', 'yyyy', 'z', 'zz', 'zzz', 'zzzz'] \n",
    " \n",
    "['x', 'y', 'z', 'xx', 'yy', 'zz', 'xx', 'yy', 'zz', 'xxxx', 'yyyy', 'zzzz'] \n",
    " \n",
    "[[2], [3], [4], [3], [4], [5], [4], [5], [6]] \n",
    " \n",
    "[[2, 3, 4, 5], [3, 4, 5, 6], [4, 5, 6, 7], [5, 6, 7, 8]] \n",
    " \n",
    "[(1, 1), (2, 1), (3, 1), (1, 2), (2, 2), (3, 2), (1, 3), (2, 3), (3, 3)] "
   ]
  },
  {
   "cell_type": "markdown",
   "metadata": {},
   "source": []
  },
  {
   "cell_type": "code",
   "execution_count": 122,
   "metadata": {},
   "outputs": [
    {
     "name": "stdout",
     "output_type": "stream",
     "text": [
      "['A', 'C', 'A', 'D', 'G', 'I', 'L', 'D']\n",
      "['x', 'xx', 'xxx', 'xxxx', 'y', 'yy', 'yyy', 'yyyy', 'z', 'zz', 'zzz', 'zzzz']\n",
      "['x', 'y', 'z', 'xx', 'yy', 'zz', 'xxx', 'yyy', 'zzz', 'xxxx', 'yyyy', 'zzzz']\n",
      "[[2], [3], [4], [3], [4], [5], [4], [5], [6]]\n",
      "[[2, 3, 4, 5], [3, 4, 5, 6], [4, 5, 6, 7], [5, 6, 7, 8]]\n",
      "[(1, 1), (1, 2), (1, 3), (2, 1), (2, 2), (2, 3), (3, 1), (3, 2), (3, 3)]\n"
     ]
    }
   ],
   "source": [
    "#produce ['A', 'C', 'A', 'D', 'G', 'I', ’L’, ‘ D’] \n",
    "word='ACADGILD'\n",
    "print ([letter for letter in word])\n",
    "\n",
    "#produce ['x', 'xx', 'xxx', 'xxxx', 'y', 'yy', 'yyy', 'yyyy', 'z', 'zz', 'zzz', 'zzzz']\n",
    "word='xyz'\n",
    "print ([i*j for i in word for j in range(1,5)])\n",
    "\n",
    "#produce ['x', 'y', 'z', 'xx', 'yy', 'zz', 'xx', 'yy', 'zz', 'xxxx', 'yyyy', 'zzzz'] \n",
    "print ([i*j for i in range(1,5) for j  in word])\n",
    "\n",
    "#produce [[2], [3], [4], [3], [4], [5], [4], [5], [6]] \n",
    "num=[2,3,4]\n",
    "print([[i+j] for i in num for j in range(0,3)])\n",
    "\n",
    "#produce [[2, 3, 4, 5], [3, 4, 5, 6], [4, 5, 6, 7], [5, 6, 7, 8]] \n",
    "num=[2,3,4,5]\n",
    "print([[i+j for i in num ] for j in range(0,4)])\n",
    "\n",
    "#produce [(1, 1), (2, 1), (3, 1), (1, 2), (2, 2), (3, 2), (1, 3), (2, 3), (3, 3)] \n",
    "num=[1,2,3]\n",
    "print([(i,j) for i in num for j in num])\n",
    "\n",
    "\n"
   ]
  },
  {
   "cell_type": "markdown",
   "metadata": {},
   "source": [
    "3.   Implement a function longestWord() that takes a list of words and returns the longest one. "
   ]
  },
  {
   "cell_type": "code",
   "execution_count": 153,
   "metadata": {},
   "outputs": [],
   "source": []
  },
  {
   "cell_type": "markdown",
   "metadata": {},
   "source": []
  },
  {
   "cell_type": "code",
   "execution_count": 147,
   "metadata": {},
   "outputs": [
    {
     "name": "stdout",
     "output_type": "stream",
     "text": [
      "longest word is longerthanlongest\n"
     ]
    }
   ],
   "source": [
    "def longestWord(words):\n",
    "    longest=''\n",
    "    for num in range(len(words)):\n",
    "        if len(longest)<len(words[num]):\n",
    "            longest=words[num]\n",
    "    print ('longest word is {}'.format(longest))\n",
    "longestWord(['longerthanlongest','long','longer','longest'])            "
   ]
  },
  {
   "cell_type": "markdown",
   "metadata": {},
   "source": [
    "Task 2: "
   ]
  },
  {
   "cell_type": "markdown",
   "metadata": {},
   "source": [
    "1.1  \n",
    " \n",
    "Write a Python Program(with class concepts) to find the area of the triangle using the below formula. \n",
    " \n",
    "area = (s*(s-a)*(s-b)*(s-c)) ** 0.5 \n",
    " \n",
    "Function to take the length of the sides of triangle from user should be defined in the parent class and function to calculate the area should be defined in subclass. "
   ]
  },
  {
   "cell_type": "code",
   "execution_count": 239,
   "metadata": {},
   "outputs": [],
   "source": [
    "class AreaOfTriangle:\n",
    "    def __init__(self,a,b,c):\n",
    "        self.a=a\n",
    "        self.c=c\n",
    "        self.b=b\n",
    "    def get_area_triangle(self):\n",
    "        s=(self.a + self.b + self.c)/2\n",
    "        return(s*((s-self.a)*(s-self.b)*(s-self.c)))**0.5\n",
    "    "
   ]
  },
  {
   "cell_type": "code",
   "execution_count": 238,
   "metadata": {},
   "outputs": [
    {
     "data": {
      "text/plain": [
       "26.832815729997478"
      ]
     },
     "execution_count": 238,
     "metadata": {},
     "output_type": "execute_result"
    }
   ],
   "source": [
    "area=AreaOfTriangle (8,7,9)\n",
    "area.get_area_triangle()"
   ]
  },
  {
   "cell_type": "markdown",
   "metadata": {},
   "source": [
    "1.2 \n",
    "Write a function filter_long_words() that takes a list of words and an integer n and returns the list of words that are longer than n\n"
   ]
  },
  {
   "cell_type": "code",
   "execution_count": 161,
   "metadata": {},
   "outputs": [
    {
     "name": "stdout",
     "output_type": "stream",
     "text": [
      "['longerthanlongest', 'longer', 'longest']\n"
     ]
    }
   ],
   "source": [
    "def filter_long_words(words,n):\n",
    "    result=[]\n",
    "    for num in range(len(words)):\n",
    "        if len(words[num])>n:\n",
    "            result.append(words[num])\n",
    "    print (result)\n",
    "            \n",
    "filter_long_words(['longerthanlongest','long','longer','longest'],4)           "
   ]
  },
  {
   "cell_type": "markdown",
   "metadata": {},
   "source": [
    "2.1\n",
    "Write a Python program using function concept that maps  list of words into a list of integers representing the lengths of the corresponding words​. \n",
    " Hint: ​If a list [ ab,cde,erty] is passed on to the python function output should come as [2,3,4] \n",
    " Here 2,3 and 4 are the lengths of the words in the list. "
   ]
  },
  {
   "cell_type": "code",
   "execution_count": 171,
   "metadata": {},
   "outputs": [
    {
     "name": "stdout",
     "output_type": "stream",
     "text": [
      "[2, 3, 4]\n"
     ]
    }
   ],
   "source": [
    "def words_to_len_int(words):\n",
    "    result=[]\n",
    "    for num in range(len(words)):\n",
    "        result.append(len(words[num]))\n",
    "print (result)\n",
    "words_to_len_int(['ab','cde','erty'])"
   ]
  },
  {
   "cell_type": "markdown",
   "metadata": {},
   "source": [
    "2.2 \n",
    "Write a Python function which takes a character (i.e. a string of length 1) and returns True if it is a vowel, False otherwise. "
   ]
  },
  {
   "cell_type": "code",
   "execution_count": 174,
   "metadata": {},
   "outputs": [],
   "source": [
    "def is_vowel(letter):\n",
    "    return letter in('a','e','i','o','u')"
   ]
  },
  {
   "cell_type": "code",
   "execution_count": 175,
   "metadata": {},
   "outputs": [
    {
     "data": {
      "text/plain": [
       "True"
      ]
     },
     "execution_count": 175,
     "metadata": {},
     "output_type": "execute_result"
    }
   ],
   "source": [
    "is_vowel('a')"
   ]
  },
  {
   "cell_type": "code",
   "execution_count": 176,
   "metadata": {},
   "outputs": [
    {
     "data": {
      "text/plain": [
       "False"
      ]
     },
     "execution_count": 176,
     "metadata": {},
     "output_type": "execute_result"
    }
   ],
   "source": [
    "is_vowel('k')"
   ]
  },
  {
   "cell_type": "code",
   "execution_count": null,
   "metadata": {},
   "outputs": [],
   "source": []
  }
 ],
 "metadata": {
  "kernelspec": {
   "display_name": "Python 3",
   "language": "python",
   "name": "python3"
  },
  "language_info": {
   "codemirror_mode": {
    "name": "ipython",
    "version": 3
   },
   "file_extension": ".py",
   "mimetype": "text/x-python",
   "name": "python",
   "nbconvert_exporter": "python",
   "pygments_lexer": "ipython3",
   "version": "3.7.6"
  }
 },
 "nbformat": 4,
 "nbformat_minor": 4
}
